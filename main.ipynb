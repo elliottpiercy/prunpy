{
 "cells": [
  {
   "cell_type": "code",
   "execution_count": 2,
   "metadata": {},
   "outputs": [],
   "source": [
    "import utils.dataset.examples\n",
    "\n",
    "\n",
    "(x_train, y_train), (x_test, y_test) = utils.dataset.examples.get_dataset('fashion_mnist')\n",
    "# x = np.concatenate((x_train, x_test))\n",
    "# y = np.concatenate((y_train, y_test))\n"
   ]
  },
  {
   "cell_type": "code",
   "execution_count": null,
   "metadata": {},
   "outputs": [],
   "source": []
  },
  {
   "cell_type": "code",
   "execution_count": 3,
   "metadata": {},
   "outputs": [
    {
     "name": "stdout",
     "output_type": "stream",
     "text": [
      "WARNING:tensorflow:From /home/elliott/Documents/prunpy/utils/tf_utils/fully_connected.py:70: The name tf.reset_default_graph is deprecated. Please use tf.compat.v1.reset_default_graph instead.\n",
      "\n",
      "WARNING:tensorflow:From /home/elliott/Documents/prunpy/utils/tf_utils/fully_connected.py:62: The name tf.placeholder is deprecated. Please use tf.compat.v1.placeholder instead.\n",
      "\n",
      "WARNING:tensorflow:From /home/elliott/Documents/prunpy/utils/tf_utils/fully_connected.py:46: The name tf.random_normal is deprecated. Please use tf.random.normal instead.\n",
      "\n",
      "WARNING:tensorflow:From /home/elliott/Documents/prunpy/utils/tf_utils/fully_connected.py:79: The name tf.variable_scope is deprecated. Please use tf.compat.v1.variable_scope instead.\n",
      "\n",
      "WARNING:tensorflow:From /home/elliott/Documents/prunpy/utils/tf_utils/fully_connected.py:101: softmax_cross_entropy_with_logits (from tensorflow.python.ops.nn_ops) is deprecated and will be removed in a future version.\n",
      "Instructions for updating:\n",
      "\n",
      "Future major versions of TensorFlow will allow gradients to flow\n",
      "into the labels input on backprop by default.\n",
      "\n",
      "See `tf.nn.softmax_cross_entropy_with_logits_v2`.\n",
      "\n",
      "WARNING:tensorflow:From /home/elliott/Documents/prunpy/utils/tf_utils/fully_connected.py:104: The name tf.train.AdamOptimizer is deprecated. Please use tf.compat.v1.train.AdamOptimizer instead.\n",
      "\n",
      "WARNING:tensorflow:From /home/elliott/Documents/prunpy/utils/tf_utils/fully_connected.py:107: The name tf.global_variables_initializer is deprecated. Please use tf.compat.v1.global_variables_initializer instead.\n",
      "\n",
      "WARNING:tensorflow:From /home/elliott/Documents/prunpy/utils/tf_utils/fully_connected.py:108: The name tf.train.Saver is deprecated. Please use tf.compat.v1.train.Saver instead.\n",
      "\n",
      "Applying pruning\n",
      "0.2\n",
      "Epoch: 0001 cost=8.777204546\n",
      "Applying pruning\n",
      "0.2\n",
      "Epoch: 0002 cost=2.692842622\n",
      "Applying pruning\n",
      "0.2\n",
      "Epoch: 0003 cost=2.190482545\n",
      "Applying pruning\n",
      "0.2\n",
      "Epoch: 0004 cost=2.062899016\n",
      "Applying pruning\n",
      "0.2\n",
      "Epoch: 0005 cost=1.967265477\n",
      "Applying pruning\n",
      "0.2\n",
      "Epoch: 0006 cost=1.878755568\n",
      "Applying pruning\n",
      "0.2\n",
      "Epoch: 0007 cost=1.826132116\n",
      "Applying pruning\n",
      "0.2\n",
      "Epoch: 0008 cost=1.787870017\n",
      "Applying pruning\n",
      "0.2\n",
      "Epoch: 0009 cost=1.758900315\n",
      "Applying pruning\n",
      "0.2\n",
      "Epoch: 0010 cost=1.734963899\n"
     ]
    }
   ],
   "source": [
    "import utils.dataset.format\n",
    "import utils.tf_utils.network\n",
    "\n",
    "dataset_config = {'x': x_train,\n",
    "                  'y': y_train,\n",
    "                  'train': 0.8,\n",
    "                  'validation': 0.1,\n",
    "                  'test': 0.1}\n",
    "\n",
    "\n",
    "network_config = {'network_type': 'fully_connected',\n",
    "                  'input_shape': 784,\n",
    "                  'layer_shapes': [10, 10, 10],\n",
    "                  'n_classes': 10,\n",
    "                  'optimiser': 'RMSProp',\n",
    "                  'activation': 'relu'}\n",
    "\n",
    "\n",
    "pruning_config = {'schedule_type': 'magnitude',\n",
    "                  'threshold': 0.2}\n",
    "\n",
    "\n",
    "dataset = utils.dataset.format.convert(dataset_config)\n",
    "\n",
    "\n",
    "network = utils.tf_utils.network.initialise(network_config, pruning_config)\n",
    "network.train(dataset, 0.001, 10, 128, 2)"
   ]
  },
  {
   "cell_type": "code",
   "execution_count": 4,
   "metadata": {},
   "outputs": [
    {
     "name": "stdout",
     "output_type": "stream",
     "text": [
      "Applying pruning\n",
      "0.9\n",
      "Epoch: 0001 cost=8.777204546\n",
      "Applying pruning\n",
      "0.9\n",
      "Epoch: 0002 cost=3.342546983\n",
      "Applying pruning\n",
      "0.9\n",
      "Epoch: 0003 cost=2.329540934\n",
      "Applying pruning\n",
      "0.9\n",
      "Epoch: 0004 cost=2.165050458\n",
      "Applying pruning\n",
      "0.9\n",
      "Epoch: 0005 cost=2.109522010\n",
      "Applying pruning\n",
      "0.9\n",
      "Epoch: 0006 cost=2.061714531\n",
      "Applying pruning\n",
      "0.9\n",
      "Epoch: 0007 cost=2.020155873\n",
      "Applying pruning\n",
      "0.9\n",
      "Epoch: 0008 cost=1.877236615\n",
      "Applying pruning\n",
      "0.9\n",
      "Epoch: 0009 cost=2.173435565\n",
      "Applying pruning\n",
      "0.9\n",
      "Epoch: 0010 cost=1.761432269\n"
     ]
    }
   ],
   "source": [
    "\n",
    "network_config = {'network_type': 'fully_connected',\n",
    "                  'input_shape': 784,\n",
    "                  'layer_shapes': [10, 10, 10],\n",
    "                  'n_classes': 10,\n",
    "                  'optimiser': 'RMSProp',\n",
    "                  'activation': 'relu'}\n",
    "\n",
    "\n",
    "pruning_config = {'schedule_type': 'magnitude',\n",
    "                  'threshold': 0.9}\n",
    "\n",
    "# dataset = utils.dataset.format.convert(dataset_config)\n",
    "\n",
    "\n",
    "network = utils.tf_utils.network.initialise(network_config, pruning_config)\n",
    "network.train(dataset, 0.001, 10, 128, 2)"
   ]
  },
  {
   "cell_type": "code",
   "execution_count": null,
   "metadata": {
    "scrolled": true
   },
   "outputs": [],
   "source": []
  },
  {
   "cell_type": "code",
   "execution_count": null,
   "metadata": {},
   "outputs": [],
   "source": []
  },
  {
   "cell_type": "code",
   "execution_count": null,
   "metadata": {},
   "outputs": [],
   "source": []
  },
  {
   "cell_type": "code",
   "execution_count": null,
   "metadata": {},
   "outputs": [],
   "source": []
  },
  {
   "cell_type": "code",
   "execution_count": null,
   "metadata": {},
   "outputs": [],
   "source": []
  },
  {
   "cell_type": "code",
   "execution_count": null,
   "metadata": {},
   "outputs": [],
   "source": []
  },
  {
   "cell_type": "code",
   "execution_count": null,
   "metadata": {},
   "outputs": [],
   "source": []
  },
  {
   "cell_type": "code",
   "execution_count": null,
   "metadata": {},
   "outputs": [],
   "source": []
  },
  {
   "cell_type": "code",
   "execution_count": null,
   "metadata": {},
   "outputs": [],
   "source": []
  },
  {
   "cell_type": "code",
   "execution_count": null,
   "metadata": {},
   "outputs": [],
   "source": []
  },
  {
   "cell_type": "code",
   "execution_count": null,
   "metadata": {},
   "outputs": [],
   "source": []
  }
 ],
 "metadata": {
  "kernelspec": {
   "display_name": "Python 3",
   "language": "python",
   "name": "python3"
  },
  "language_info": {
   "codemirror_mode": {
    "name": "ipython",
    "version": 3
   },
   "file_extension": ".py",
   "mimetype": "text/x-python",
   "name": "python",
   "nbconvert_exporter": "python",
   "pygments_lexer": "ipython3",
   "version": "3.6.10"
  }
 },
 "nbformat": 4,
 "nbformat_minor": 4
}
