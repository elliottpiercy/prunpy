{
 "cells": [
  {
   "cell_type": "code",
   "execution_count": null,
   "metadata": {},
   "outputs": [],
   "source": [
    "import utils.dataset.examples\n",
    "# import utils.dataset.format\n",
    "\n",
    "dataset_config = {'dataset': 'mnist',\n",
    "                  'batch_size': 128,\n",
    "                  'one_hot_encode': True,\n",
    "                  'shuffle': True,\n",
    "                  'normalise': True}\n",
    "\n",
    "\n",
    "train_dataset, test_dataset = utils.dataset.examples.get_dataset(dataset_config)"
   ]
  },
  {
   "cell_type": "code",
   "execution_count": null,
   "metadata": {},
   "outputs": [],
   "source": []
  },
  {
   "cell_type": "code",
   "execution_count": null,
   "metadata": {
    "scrolled": false
   },
   "outputs": [],
   "source": [
    "import utils.tf.network\n",
    "\n",
    "\n",
    "# pruning_config = {'schedule_type': 'rewind_pruning',\n",
    "#                   'threshold': 0.1,\n",
    "#                   'threshold_step': 0.05,\n",
    "#                   'epoch_threshold': 5,\n",
    "#                   'initial_learning_rate': 0.001,\n",
    "#                   'eps': 0.01}\n",
    "\n",
    "\n",
    "pruning_config = {'schedule_type': 'magnitude_threshold',\n",
    "                  'threshold': 0.25,\n",
    "                  'epoch_threshold': 2,\n",
    "                  'function': 'one_shot_static'}\n",
    "\n",
    "\n",
    "network_config = {'network_type': 'fully_connected',\n",
    "                  'input_shape': (28, 28),\n",
    "                  'seed': 5,\n",
    "                  'layer_shapes': [32, 32, 32, 32],\n",
    "                  'n_classes': 10,\n",
    "                  'optimiser': {'name': 'RMSProp',\n",
    "                                'learning_rate': 0.001\n",
    "                               },\n",
    "                  'activation': 'relu',\n",
    "                  'epochs': 30,\n",
    "                  'dropout_rate': 0.2,\n",
    "#                   'pretrained_path': 'pretrained/mnist.hdf5',\n",
    "                  'save_rate': 'epoch',\n",
    "                  'batch_size': 128,\n",
    "                  'loss': {'name':'CategoricalCrossentropy',\n",
    "                           'from_logits': True\n",
    "                          }\n",
    "                 }\n",
    "\n",
    "\n",
    "network = utils.tf.network.model(network_config, pruning_config)\n",
    "history = network.train(train_dataset)"
   ]
  },
  {
   "cell_type": "code",
   "execution_count": null,
   "metadata": {},
   "outputs": [],
   "source": [
    "import utils.visualiser.visualise\n",
    "\n",
    "log_path = 'logs/2020-07-15-16-04-48/'\n",
    "\n",
    "utils.visualiser.visualise.render_network_gif(log_path)\n",
    "# utils.visualiser.visualise.render_distribution_gif(log_path, 2)"
   ]
  },
  {
   "cell_type": "code",
   "execution_count": null,
   "metadata": {},
   "outputs": [],
   "source": []
  },
  {
   "cell_type": "code",
   "execution_count": null,
   "metadata": {},
   "outputs": [],
   "source": []
  },
  {
   "cell_type": "code",
   "execution_count": null,
   "metadata": {},
   "outputs": [],
   "source": []
  },
  {
   "cell_type": "code",
   "execution_count": null,
   "metadata": {},
   "outputs": [],
   "source": []
  }
 ],
 "metadata": {
  "kernelspec": {
   "display_name": "Python 3",
   "language": "python",
   "name": "python3"
  },
  "language_info": {
   "codemirror_mode": {
    "name": "ipython",
    "version": 3
   },
   "file_extension": ".py",
   "mimetype": "text/x-python",
   "name": "python",
   "nbconvert_exporter": "python",
   "pygments_lexer": "ipython3",
   "version": "3.6.10"
  }
 },
 "nbformat": 4,
 "nbformat_minor": 4
}
