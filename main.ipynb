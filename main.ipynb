{
 "cells": [
  {
   "cell_type": "code",
   "execution_count": 2,
   "metadata": {},
   "outputs": [],
   "source": [
    "import utils.dataset.examples\n",
    "import utils.dataset.format\n",
    "import utils.tf_utils.network\n",
    "\n",
    "(x_train, y_train), (x_test, y_test) = utils.dataset.examples.get_dataset('mnist')"
   ]
  },
  {
   "cell_type": "code",
   "execution_count": 25,
   "metadata": {
    "scrolled": false
   },
   "outputs": [
    {
     "name": "stdout",
     "output_type": "stream",
     "text": [
      "INFO:tensorflow:Restoring parameters from tmp/model.ckpt-24\n",
      "Epoch: 0001 cost=1.494096140\n",
      "Epoch: 0002 cost=1.484347724\n",
      "Epoch: 0003 cost=1.473666771\n",
      "Epoch: 0004 cost=1.455664001\n",
      "Epoch: 0005 cost=1.433605160\n",
      "Epoch: 0006 cost=1.414896794\n",
      "Epoch: 0007 cost=1.399975839\n",
      "Epoch: 0008 cost=1.387436556\n",
      "Epoch: 0009 cost=1.369818400\n",
      "Epoch: 0010 cost=1.345403299\n"
     ]
    }
   ],
   "source": [
    "dataset_config = {'x': x_train,\n",
    "                  'y': y_train,\n",
    "                  'train': 0.8,\n",
    "                  'validation': 0.1,\n",
    "                  'test': 0.1}\n",
    "\n",
    "\n",
    "network_config = {'network_type': 'fully_connected',\n",
    "                  'input_shape': 784,\n",
    "                  'layer_shapes': [10, 10, 10],\n",
    "                  'n_classes': 10,\n",
    "                  'optimiser': 'RMSProp',\n",
    "                  'activation': 'relu',\n",
    "                  'pretrained_path': 'tmp/model.ckpt-24'}\n",
    "\n",
    "\n",
    "pruning_config = {'schedule_type': 'magnitude_percentage',\n",
    "                  'threshold': 0.05,\n",
    "                  'epoch_threshold': 0}\n",
    "\n",
    "\n",
    "dataset = utils.dataset.format.convert(dataset_config)\n",
    "\n",
    "\n",
    "network = utils.tf_utils.network.initialise(network_config, pruning_config)\n",
    "network.train(dataset, 0.001, 10, 128, 2)"
   ]
  },
  {
   "cell_type": "code",
   "execution_count": null,
   "metadata": {},
   "outputs": [],
   "source": []
  },
  {
   "cell_type": "code",
   "execution_count": null,
   "metadata": {},
   "outputs": [],
   "source": []
  },
  {
   "cell_type": "code",
   "execution_count": null,
   "metadata": {},
   "outputs": [],
   "source": []
  }
 ],
 "metadata": {
  "kernelspec": {
   "display_name": "Python 3",
   "language": "python",
   "name": "python3"
  },
  "language_info": {
   "codemirror_mode": {
    "name": "ipython",
    "version": 3
   },
   "file_extension": ".py",
   "mimetype": "text/x-python",
   "name": "python",
   "nbconvert_exporter": "python",
   "pygments_lexer": "ipython3",
   "version": "3.6.10"
  }
 },
 "nbformat": 4,
 "nbformat_minor": 4
}
