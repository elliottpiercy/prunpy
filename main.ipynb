{
 "cells": [
  {
   "cell_type": "code",
   "execution_count": 3,
   "metadata": {},
   "outputs": [],
   "source": [
    "import utils.dataset.examples\n",
    "import utils.tf_utils.network\n",
    "import utils.dataset.format\n",
    "\n",
    "(x_train, y_train), (x_test, y_test) = utils.dataset.examples.get_dataset('mnist', True, False)\n",
    "\n",
    "dataset_config = {'x': x_train,\n",
    "                  'y': y_train,\n",
    "                  'train': 0.8,\n",
    "                  'validation': 0.1,\n",
    "                  'test': 0.1}\n",
    "\n",
    "\n",
    "dataset = utils.dataset.format.convert(dataset_config)"
   ]
  },
  {
   "cell_type": "code",
   "execution_count": null,
   "metadata": {},
   "outputs": [],
   "source": []
  },
  {
   "cell_type": "code",
   "execution_count": 9,
   "metadata": {
    "scrolled": true
   },
   "outputs": [],
   "source": [
    "import utils.prune_utils.initalise\n",
    "\n",
    "pruning_config = {'schedule_type': 'magnitude_threshold',\n",
    "                  'threshold': 0.001,\n",
    "                  'epoch_threshold': 2}\n",
    "\n",
    "\n",
    "network_config = {'network_type': 'fully_connected',\n",
    "                  'input_shape': (28, 28),\n",
    "                  'seed': 5,\n",
    "                  'layer_shapes': [128],\n",
    "                  'n_classes': 10,\n",
    "                  'optimiser': {'name': 'RMSProp',\n",
    "                                'learning_rate': 0.01\n",
    "                               },\n",
    "                  'activation': 'relu',\n",
    "                  'epochs': 5,\n",
    "#                   'dropout_rate': 0.2,\n",
    "                  'save_rate': 'epoch',\n",
    "                  'batch_size': 128,\n",
    "                  'loss': {'name':'SparseCategoricalCrossentropy',\n",
    "                           'from_logits': True\n",
    "                          }\n",
    "                 }\n",
    "\n",
    "\n",
    "network = utils.tf_utils.network.model(network_config, pruning_config)\n",
    "network.train(dataset)"
   ]
  },
  {
   "cell_type": "code",
   "execution_count": null,
   "metadata": {},
   "outputs": [],
   "source": []
  },
  {
   "cell_type": "code",
   "execution_count": null,
   "metadata": {},
   "outputs": [],
   "source": []
  },
  {
   "cell_type": "code",
   "execution_count": null,
   "metadata": {},
   "outputs": [],
   "source": []
  },
  {
   "cell_type": "code",
   "execution_count": null,
   "metadata": {
    "scrolled": true
   },
   "outputs": [],
   "source": []
  },
  {
   "cell_type": "code",
   "execution_count": null,
   "metadata": {},
   "outputs": [],
   "source": []
  },
  {
   "cell_type": "code",
   "execution_count": null,
   "metadata": {},
   "outputs": [],
   "source": []
  },
  {
   "cell_type": "code",
   "execution_count": null,
   "metadata": {},
   "outputs": [],
   "source": []
  }
 ],
 "metadata": {
  "kernelspec": {
   "display_name": "Python 3",
   "language": "python",
   "name": "python3"
  },
  "language_info": {
   "codemirror_mode": {
    "name": "ipython",
    "version": 3
   },
   "file_extension": ".py",
   "mimetype": "text/x-python",
   "name": "python",
   "nbconvert_exporter": "python",
   "pygments_lexer": "ipython3",
   "version": "3.6.10"
  }
 },
 "nbformat": 4,
 "nbformat_minor": 4
}
