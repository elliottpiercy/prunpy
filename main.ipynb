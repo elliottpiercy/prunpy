{
 "cells": [
  {
   "cell_type": "code",
   "execution_count": 1,
   "metadata": {},
   "outputs": [],
   "source": [
    "## This would be a cool dataset function to write\n",
    "# batch_x, batch_y = mnist.train.next_batch(batch_size)"
   ]
  },
  {
   "cell_type": "code",
   "execution_count": 7,
   "metadata": {},
   "outputs": [],
   "source": [
    "import numpy as np\n",
    "import tensorflow as tf\n",
    "from sklearn.preprocessing import OneHotEncoder\n",
    "import seaborn as sns\n",
    "import matplotlib.pyplot as plt\n",
    "\n",
    "(x_train, y_train), (x_test, y_test) = tf.keras.datasets.mnist.load_data()\n",
    "x_train, x_test = x_train / 255.0, x_test / 255.0\n",
    "\n",
    "\n",
    "enc = OneHotEncoder(handle_unknown='ignore')\n",
    "enc.fit(y_train.reshape((-1, 1)))\n",
    "\n",
    "y_train = enc.transform(y_train.reshape((-1, 1))).toarray()\n",
    "y_test = enc.transform(y_test.reshape((-1, 1))).toarray()\n",
    "\n",
    "x = np.concatenate((x_train, x_test))\n",
    "y = np.concatenate((y_train, y_test))\n"
   ]
  },
  {
   "cell_type": "code",
   "execution_count": 6,
   "metadata": {},
   "outputs": [
    {
     "name": "stdout",
     "output_type": "stream",
     "text": [
      "Epoch: 0001 cost=2.224827614\n",
      "Epoch: 0002 cost=2.269133114\n",
      "Epoch: 0003 cost=2.284576511\n",
      "Epoch: 0004 cost=2.296432643\n",
      "Epoch: 0005 cost=2.291965502\n",
      "Epoch: 0006 cost=2.310308705\n",
      "Epoch: 0007 cost=2.303533955\n",
      "Epoch: 0008 cost=2.311320286\n",
      "Epoch: 0009 cost=2.292978753\n",
      "Epoch: 0010 cost=2.307888991\n"
     ]
    }
   ],
   "source": [
    "import utils.dataset.format\n",
    "import utils.tf_utils.fully_connected\n",
    "\n",
    "dataset_config = {'x': x,\n",
    "                  'y': y,\n",
    "                  'train': 0.8,\n",
    "                  'validation': 0.1,\n",
    "                  'test': 0.1}\n",
    "\n",
    "\n",
    "dataset = utils.dataset.format.convert(dataset_config)\n",
    "\n",
    "network_config = {'input_shape': 784,\n",
    "                  'layer_shapes': [10, 10, 10],\n",
    "                  'n_classes': 10,\n",
    "                  'optimiser': 'RMSProp',\n",
    "                  'weight_threshold': 0,\n",
    "                  'pruning_schedule': 'magnitude',\n",
    "                  'activation': 'relu'}\n",
    "\n",
    "\n",
    "fc = utils.tf_utils.fully_connected.fully_connected(network_config)\n",
    "fc.train(dataset, 0.001, 10, 128, 2)"
   ]
  },
  {
   "cell_type": "code",
   "execution_count": null,
   "metadata": {},
   "outputs": [],
   "source": []
  },
  {
   "cell_type": "code",
   "execution_count": null,
   "metadata": {
    "scrolled": true
   },
   "outputs": [],
   "source": []
  },
  {
   "cell_type": "code",
   "execution_count": null,
   "metadata": {},
   "outputs": [],
   "source": []
  },
  {
   "cell_type": "code",
   "execution_count": null,
   "metadata": {},
   "outputs": [],
   "source": []
  },
  {
   "cell_type": "code",
   "execution_count": null,
   "metadata": {},
   "outputs": [],
   "source": []
  },
  {
   "cell_type": "code",
   "execution_count": null,
   "metadata": {},
   "outputs": [],
   "source": []
  },
  {
   "cell_type": "code",
   "execution_count": null,
   "metadata": {},
   "outputs": [],
   "source": []
  },
  {
   "cell_type": "code",
   "execution_count": null,
   "metadata": {},
   "outputs": [],
   "source": []
  }
 ],
 "metadata": {
  "kernelspec": {
   "display_name": "Python 3",
   "language": "python",
   "name": "python3"
  },
  "language_info": {
   "codemirror_mode": {
    "name": "ipython",
    "version": 3
   },
   "file_extension": ".py",
   "mimetype": "text/x-python",
   "name": "python",
   "nbconvert_exporter": "python",
   "pygments_lexer": "ipython3",
   "version": "3.6.10"
  }
 },
 "nbformat": 4,
 "nbformat_minor": 4
}
