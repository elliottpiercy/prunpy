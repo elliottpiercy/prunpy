{
 "cells": [
  {
   "cell_type": "code",
   "execution_count": 1,
   "metadata": {},
   "outputs": [],
   "source": [
    "import utils.dataset.examples\n",
    "# import utils.dataset.format\n",
    "\n",
    "dataset_config = {'dataset': 'mnist',\n",
    "                  'batch_size': 128,\n",
    "                  'one_hot_encode': True,\n",
    "                  'shuffle': True,\n",
    "                  'normalise': True}\n",
    "\n",
    "\n",
    "train_dataset, test_dataset = utils.dataset.examples.get_dataset(dataset_config)"
   ]
  },
  {
   "cell_type": "code",
   "execution_count": null,
   "metadata": {},
   "outputs": [],
   "source": []
  },
  {
   "cell_type": "code",
   "execution_count": 3,
   "metadata": {
    "scrolled": false
   },
   "outputs": [
    {
     "name": "stdout",
     "output_type": "stream",
     "text": [
      "Output saved to directory: logs/2020-06-06-16-43-04/\n",
      "Epoch 1/10\n",
      "451/469 [===========================>..] - ETA: 0s - loss: 0.3462 - accuracy: 0.9031\n",
      "Epoch 00001: saving model to logs/2020-06-06-16-43-04/models/model-0001.hdf5\n",
      "469/469 [==============================] - 1s 2ms/step - loss: 0.3412 - accuracy: 0.9044\n",
      "Epoch 2/10\n",
      "469/469 [==============================] - ETA: 0s - loss: 0.1617 - accuracy: 0.9534\n",
      "Epoch 00002: saving model to logs/2020-06-06-16-43-04/models/model-0002.hdf5\n",
      "469/469 [==============================] - 1s 2ms/step - loss: 0.1617 - accuracy: 0.9534\n",
      "Epoch 3/10\n",
      "444/469 [===========================>..] - ETA: 0s - loss: 0.1157 - accuracy: 0.9659\n",
      "Epoch 00003: saving model to logs/2020-06-06-16-43-04/models/model-0003.hdf5\n",
      "469/469 [==============================] - 1s 2ms/step - loss: 0.1154 - accuracy: 0.9660\n",
      "Epoch 4/10\n",
      "446/469 [===========================>..] - ETA: 0s - loss: 0.1346 - accuracy: 0.9658\n",
      "Epoch 00004: saving model to logs/2020-06-06-16-43-04/models/model-0004.hdf5\n",
      "469/469 [==============================] - 1s 2ms/step - loss: 0.1328 - accuracy: 0.9662\n",
      "Epoch 5/10\n",
      "454/469 [============================>.] - ETA: 0s - loss: 0.1087 - accuracy: 0.9708\n",
      "Epoch 00005: saving model to logs/2020-06-06-16-43-04/models/model-0005.hdf5\n",
      "469/469 [==============================] - 1s 2ms/step - loss: 0.1083 - accuracy: 0.9708\n",
      "Epoch 6/10\n",
      "449/469 [===========================>..] - ETA: 0s - loss: 0.0969 - accuracy: 0.9728\n",
      "Epoch 00006: saving model to logs/2020-06-06-16-43-04/models/model-0006.hdf5\n",
      "469/469 [==============================] - 1s 2ms/step - loss: 0.0966 - accuracy: 0.9728\n",
      "Epoch 7/10\n",
      "453/469 [===========================>..] - ETA: 0s - loss: 0.0889 - accuracy: 0.9746\n",
      "Epoch 00007: saving model to logs/2020-06-06-16-43-04/models/model-0007.hdf5\n",
      "469/469 [==============================] - 1s 2ms/step - loss: 0.0887 - accuracy: 0.9747\n",
      "Epoch 8/10\n",
      "465/469 [============================>.] - ETA: 0s - loss: 0.0826 - accuracy: 0.9761\n",
      "Epoch 00008: saving model to logs/2020-06-06-16-43-04/models/model-0008.hdf5\n",
      "469/469 [==============================] - 1s 2ms/step - loss: 0.0825 - accuracy: 0.9761\n",
      "Epoch 9/10\n",
      "459/469 [============================>.] - ETA: 0s - loss: 0.0774 - accuracy: 0.9773\n",
      "Epoch 00009: saving model to logs/2020-06-06-16-43-04/models/model-0009.hdf5\n",
      "469/469 [==============================] - 1s 2ms/step - loss: 0.0770 - accuracy: 0.9775\n",
      "Epoch 10/10\n",
      "458/469 [============================>.] - ETA: 0s - loss: 0.0735 - accuracy: 0.9789\n",
      "Epoch 00010: saving model to logs/2020-06-06-16-43-04/models/model-0010.hdf5\n",
      "469/469 [==============================] - 1s 2ms/step - loss: 0.0730 - accuracy: 0.9790\n"
     ]
    }
   ],
   "source": [
    "import utils.prune_utils.initalise\n",
    "import utils.tf_utils.network\n",
    "\n",
    "\n",
    "pruning_config = {'schedule_type': 'magnitude_percentage',\n",
    "                  'threshold': 0.75,\n",
    "                  'epoch_threshold': 2}\n",
    "\n",
    "\n",
    "network_config = {'network_type': 'fully_connected',\n",
    "                  'input_shape': (28, 28),\n",
    "                  'seed': 5,\n",
    "                  'layer_shapes': [128],\n",
    "                  'n_classes': 10,\n",
    "                  'optimiser': {'name': 'RMSProp',\n",
    "                                'learning_rate': 0.001\n",
    "                               },\n",
    "                  'activation': 'relu',\n",
    "                  'epochs': 10,\n",
    "#                   'dropout_rate': 0.2,\n",
    "#                   'pretrained_path': 'tmp/model-10.hdf5',\n",
    "                  'save_rate': 'epoch',\n",
    "                  'batch_size': 128,\n",
    "                  'loss': {'name':'CategoricalCrossentropy',\n",
    "                           'from_logits': True\n",
    "                          }\n",
    "                 }\n",
    "\n",
    "\n",
    "network = utils.tf_utils.network.model(network_config, pruning_config)\n",
    "history = network.train(train_dataset)"
   ]
  },
  {
   "cell_type": "code",
   "execution_count": null,
   "metadata": {},
   "outputs": [],
   "source": []
  },
  {
   "cell_type": "code",
   "execution_count": null,
   "metadata": {},
   "outputs": [],
   "source": []
  },
  {
   "cell_type": "code",
   "execution_count": null,
   "metadata": {},
   "outputs": [],
   "source": []
  },
  {
   "cell_type": "code",
   "execution_count": null,
   "metadata": {},
   "outputs": [],
   "source": []
  },
  {
   "cell_type": "code",
   "execution_count": null,
   "metadata": {},
   "outputs": [],
   "source": []
  },
  {
   "cell_type": "code",
   "execution_count": null,
   "metadata": {},
   "outputs": [],
   "source": []
  },
  {
   "cell_type": "code",
   "execution_count": null,
   "metadata": {},
   "outputs": [],
   "source": []
  }
 ],
 "metadata": {
  "kernelspec": {
   "display_name": "Python 3",
   "language": "python",
   "name": "python3"
  },
  "language_info": {
   "codemirror_mode": {
    "name": "ipython",
    "version": 3
   },
   "file_extension": ".py",
   "mimetype": "text/x-python",
   "name": "python",
   "nbconvert_exporter": "python",
   "pygments_lexer": "ipython3",
   "version": "3.6.10"
  }
 },
 "nbformat": 4,
 "nbformat_minor": 4
}
