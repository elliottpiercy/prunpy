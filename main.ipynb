{
 "cells": [
  {
   "cell_type": "code",
   "execution_count": 1,
   "metadata": {},
   "outputs": [],
   "source": [
    "import utils.dataset.examples\n",
    "import utils.tf_utils.network\n",
    "import utils.dataset.format\n",
    "\n",
    "dataset_config = {'dataset': 'mnist',\n",
    "                  'batch_size': 128,\n",
    "                  'one_hot_encode': True,\n",
    "                  'shuffle': True,\n",
    "                  'normalise': True}\n",
    "\n",
    "\n",
    "train_dataset, test_dataset = utils.dataset.examples.get_dataset(dataset_config)"
   ]
  },
  {
   "cell_type": "code",
   "execution_count": null,
   "metadata": {},
   "outputs": [],
   "source": []
  },
  {
   "cell_type": "code",
   "execution_count": 3,
   "metadata": {
    "scrolled": false
   },
   "outputs": [
    {
     "name": "stdout",
     "output_type": "stream",
     "text": [
      "epoch\n",
      "Epoch 1/5\n",
      "463/469 [============================>.] - ETA: 0s - loss: 0.6355 - accuracy: 0.7989\n",
      "Epoch 00001: saving model to tmp/model-01.hdf5\n",
      "469/469 [==============================] - 2s 3ms/step - loss: 0.6293 - accuracy: 0.8009\n",
      "Epoch 2/5\n",
      "469/469 [==============================] - ETA: 0s - loss: 0.1316 - accuracy: 0.9626\n",
      "Epoch 00002: saving model to tmp/model-02.hdf5\n",
      "469/469 [==============================] - 1s 3ms/step - loss: 0.1316 - accuracy: 0.9626\n",
      "Epoch 3/5\n",
      "468/469 [============================>.] - ETA: 0s - loss: 0.1066 - accuracy: 0.9718\n",
      "Epoch 00003: saving model to tmp/model-03.hdf5\n",
      "469/469 [==============================] - 2s 3ms/step - loss: 0.1067 - accuracy: 0.9717\n",
      "Epoch 4/5\n",
      "469/469 [==============================] - ETA: 0s - loss: 0.0905 - accuracy: 0.9768\n",
      "Epoch 00004: saving model to tmp/model-04.hdf5\n",
      "469/469 [==============================] - 2s 3ms/step - loss: 0.0905 - accuracy: 0.9768\n",
      "Epoch 5/5\n",
      "462/469 [============================>.] - ETA: 0s - loss: 0.0808 - accuracy: 0.9793\n",
      "Epoch 00005: saving model to tmp/model-05.hdf5\n",
      "469/469 [==============================] - 1s 3ms/step - loss: 0.0805 - accuracy: 0.9793\n"
     ]
    }
   ],
   "source": [
    "import utils.prune_utils.initalise\n",
    "\n",
    "pruning_config = {'schedule_type': 'magnitude_threshold',\n",
    "                  'threshold': 0.001,\n",
    "                  'epoch_threshold': 2}\n",
    "\n",
    "\n",
    "network_config = {'network_type': 'fully_connected',\n",
    "                  'input_shape': (28, 28),\n",
    "                  'seed': 5,\n",
    "                  'layer_shapes': [128],\n",
    "                  'n_classes': 10,\n",
    "                  'optimiser': {'name': 'RMSProp',\n",
    "                                'learning_rate': 0.01\n",
    "                               },\n",
    "                  'activation': 'relu',\n",
    "                  'epochs': 5,\n",
    "#                   'dropout_rate': 0.2,\n",
    "                  'save_rate': 'epoch',\n",
    "                  'batch_size': 128,\n",
    "                  'loss': {'name':'SparseCategoricalCrossentropy',\n",
    "                           'from_logits': True\n",
    "                          }\n",
    "                 }\n",
    "\n",
    "\n",
    "network = utils.tf_utils.network.model(network_config, pruning_config)\n",
    "network.train(train_dataset)"
   ]
  },
  {
   "cell_type": "code",
   "execution_count": null,
   "metadata": {},
   "outputs": [],
   "source": []
  },
  {
   "cell_type": "code",
   "execution_count": null,
   "metadata": {},
   "outputs": [],
   "source": []
  },
  {
   "cell_type": "code",
   "execution_count": null,
   "metadata": {},
   "outputs": [],
   "source": []
  },
  {
   "cell_type": "code",
   "execution_count": null,
   "metadata": {},
   "outputs": [],
   "source": []
  },
  {
   "cell_type": "code",
   "execution_count": null,
   "metadata": {},
   "outputs": [],
   "source": []
  }
 ],
 "metadata": {
  "kernelspec": {
   "display_name": "Python 3",
   "language": "python",
   "name": "python3"
  },
  "language_info": {
   "codemirror_mode": {
    "name": "ipython",
    "version": 3
   },
   "file_extension": ".py",
   "mimetype": "text/x-python",
   "name": "python",
   "nbconvert_exporter": "python",
   "pygments_lexer": "ipython3",
   "version": "3.6.10"
  }
 },
 "nbformat": 4,
 "nbformat_minor": 4
}
